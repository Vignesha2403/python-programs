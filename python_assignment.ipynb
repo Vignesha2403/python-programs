{
 "cells": [
  {
   "cell_type": "code",
   "execution_count": null,
   "metadata": {},
   "outputs": [],
   "source": [
    "# QUESTION NUMBER 1\n",
    "num1 = int(input(\"Enter first number: \"))\n",
    "num2 = int(input(\"Enter Second number: \"))\n",
    "\n",
    "add = num1 + num2\n",
    "sub = num1 - num2\n",
    "product = num1 * num2\n",
    "div = num1 / num2\n",
    "modulus = num1 % num2\n",
    "expo = num1 ** num2\n",
    "fdiv = num1 // num2\n",
    "\n",
    "print(\"Addition:\", add)\n",
    "print(\"Subtraction:\", sub)\n",
    "print(\"Multiplication:\", product)\n",
    "print(\"Division:\", div)\n",
    "print(\"Modulus:\", modulus)\n",
    "print(\"Exponentiation:\", expo)\n",
    "print(\"Floor Division:\", fdiv) "
   ]
  },
  {
   "cell_type": "code",
   "execution_count": null,
   "metadata": {},
   "outputs": [],
   "source": [
    "# QUESTION NUMBER 2\n",
    "\n",
    "\n",
    "num1 =(input(\"Enter the first number: \"))\n",
    "num2 =(input(\"Enter the second number: \"))\n",
    "if num1 > num2:\n",
    "    print(\"The first number is greater than the second number.\")\n",
    "elif num1 == num2:\n",
    "    print(\"The first number is equal to the second number.\")\n",
    "else:\n",
    "    print(\"The first number is less than or equal to the second number.\")"
   ]
  },
  {
   "cell_type": "code",
   "execution_count": null,
   "metadata": {},
   "outputs": [],
   "source": [
    "#Question Number 3\n",
    "\n",
    "\n",
    "def combine_booleans(a, b, c):\n",
    "    result_and = a and b and c\n",
    "    result_or = a or b or c\n",
    "    result_not = not a\n",
    "    \n",
    "    return result_and, result_or, result_not\n",
    "\n",
    "\n",
    "a = bool(int(input(\"Enter 1 for True or 0 for False for the first value: \")))\n",
    "b = bool(int(input(\"Enter 1 for True or 0 for False for the second value: \")))\n",
    "c = bool(int(input(\"Enter 1 for True or 0 for False for the third value: \")))\n",
    "\n",
    "\n",
    "and_result, or_result, not_result = combine_booleans(a, b, c)\n",
    "\n",
    "\n",
    "print(f\"Result of AND operation: {and_result}\")\n",
    "print(f\"Result of OR operation: {or_result}\")\n",
    "print(f\"Result of NOT operation on the first value: {not_result}\")\n"
   ]
  },
  {
   "cell_type": "code",
   "execution_count": 13,
   "metadata": {},
   "outputs": [
    {
     "name": "stdout",
     "output_type": "stream",
     "text": [
      "The length of the string: 7\n",
      "The first and last character: A And k\n",
      "The string in reverse order: kehsibA\n",
      "The string in uppercase ABISHEK\n",
      "The string in Lowercase abishek\n"
     ]
    }
   ],
   "source": [
    "# Question number 4:\n",
    "\n",
    "string = input(\"enter a string\")\n",
    "\n",
    "print(\"The length of the string:\", len(string))\n",
    "print(\"The first and last character:\", string[0], \"And\", string[-1])\n",
    "print(\"The string in reverse order:\", string[::-1])\n",
    "print(\"The string in uppercase:\", string.upper())\n",
    "print(\"The string in lowercase:\", string.lower())"
   ]
  },
  {
   "cell_type": "code",
   "execution_count": 14,
   "metadata": {},
   "outputs": [
    {
     "name": "stdout",
     "output_type": "stream",
     "text": [
      "Hello  abishek , you are 21 years old\n"
     ]
    }
   ],
   "source": [
    "# Question number 5\n",
    "name = input(\"Enter the name: \")\n",
    "age = int(input(\"Enter the age: \"))\n",
    "print(\"Hello\", name, \",\", \"you are\", age, \"years old.\")"
   ]
  },
  {
   "cell_type": "code",
   "execution_count": 3,
   "metadata": {},
   "outputs": [
    {
     "name": "stdout",
     "output_type": "stream",
     "text": [
      "The word ',hi' exists in the sentence at index 0.\n"
     ]
    }
   ],
   "source": [
    "# Question number 6\n",
    "a=input(\"enter a sentence\")\n",
    "word = input(\"Enter a word to search for: \")\n",
    "place = a.find(word)  \n",
    "if word in a:\n",
    "    print(f\"The word ',{word}' exists in the sentence at index {place}.\")\n",
    "else:\n",
    "    print(f\"The word '{word}' does not exist in the sentence.\")\n"
   ]
  },
  {
   "cell_type": "code",
   "execution_count": 1,
   "metadata": {},
   "outputs": [
    {
     "name": "stdout",
     "output_type": "stream",
     "text": [
      "\n",
      "Results:\n",
      "The sum of all numbers: 15\n",
      "The largest number: 5\n",
      "The smallest number: 1\n"
     ]
    }
   ],
   "source": [
    "# Question number 7\n",
    "\n",
    "numbers = []\n",
    "for i in range(5):\n",
    "    num = int(input(f\"Enter number {i+1}: \"))\n",
    "    numbers.append(num)\n",
    "total_sum = sum(numbers)  \n",
    "largest_number = max(numbers)  \n",
    "smallest_number = min(numbers)  \n",
    "\n",
    "print(\"\\nResults:\")\n",
    "print(f\"The sum of all numbers: {total_sum}\")\n",
    "print(f\"The largest number: {largest_number}\")\n",
    "print(f\"The smallest number: {smallest_number}\")\n"
   ]
  },
  {
   "cell_type": "code",
   "execution_count": 4,
   "metadata": {},
   "outputs": [
    {
     "name": "stdout",
     "output_type": "stream",
     "text": [
      "Updated list of favorite fruits: ['Apple', 'Mango', 'Orange', 'Grapes', 'Pineapple']\n"
     ]
    }
   ],
   "source": [
    "# Question number 8\n",
    "\n",
    "fruits.append(\"Pineapple\")\n",
    "fruits.pop(1)\n",
    "print(\"Updated list of favorite fruits:\", fruits)\n"
   ]
  },
  {
   "cell_type": "code",
   "execution_count": 7,
   "metadata": {},
   "outputs": [
    {
     "name": "stdout",
     "output_type": "stream",
     "text": [
      "Sorted Lists:\n",
      "Ascending order: [1, 2, 3, 4, 5]\n",
      "Descending order: [1, 2, 3, 4, 5]\n"
     ]
    }
   ],
   "source": [
    "# Question number 9\n",
    "numbers = []\n",
    "for i in range(5):\n",
    "\n",
    "    num = int(input(f\"Enter number {i+1}: \"))\n",
    "    numbers.append(num)\n",
    "ascending_order = sorted(numbers)\n",
    "descending_order = sorted(numbers, reverse=True)\n",
    "print(\"Sorted Lists:\")\n",
    "print(f\"Ascending order: {ascending_order}\")\n",
    "print(f\"Descending order: {descending_order}\")\n"
   ]
  },
  {
   "cell_type": "code",
   "execution_count": 1,
   "metadata": {},
   "outputs": [
    {
     "name": "stdout",
     "output_type": "stream",
     "text": [
      "First 5 elements: [1, 2, 3, 4, 5]\n",
      "Last 5 elements: [6, 7, 8, 9, 10]\n",
      "Elements from index 2 to index 7: [3, 4, 5, 6, 7, 8]\n"
     ]
    }
   ],
   "source": [
    "#question number 10\n",
    "numbers = [1, 2, 3, 4, 5, 6, 7, 8, 9, 10]\n",
    "first_five = numbers[:5]\n",
    "print(\"First 5 elements:\", first_five)\n",
    "last_five = numbers[-5:]\n",
    "print(\"Last 5 elements:\", last_five)\n",
    "middle = numbers[2:8]\n",
    "print(\"Elements from index 2 to index 7:\", middle)\n"
   ]
  }
 ],
 "metadata": {
  "kernelspec": {
   "display_name": "Python 3",
   "language": "python",
   "name": "python3"
  },
  "language_info": {
   "codemirror_mode": {
    "name": "ipython",
    "version": 3
   },
   "file_extension": ".py",
   "mimetype": "text/x-python",
   "name": "python",
   "nbconvert_exporter": "python",
   "pygments_lexer": "ipython3",
   "version": "3.12.6"
  }
 },
 "nbformat": 4,
 "nbformat_minor": 2
}
